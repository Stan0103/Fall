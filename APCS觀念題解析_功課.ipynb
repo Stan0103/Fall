{
  "nbformat": 4,
  "nbformat_minor": 0,
  "metadata": {
    "kernelspec": {
      "display_name": "Python 3",
      "language": "python",
      "name": "python3"
    },
    "language_info": {
      "codemirror_mode": {
        "name": "ipython",
        "version": 3
      },
      "file_extension": ".py",
      "mimetype": "text/x-python",
      "name": "python",
      "nbconvert_exporter": "python",
      "pygments_lexer": "ipython3",
      "version": "3.7.4"
    },
    "colab": {
      "name": "APCS觀念題解析---功課",
      "provenance": [],
      "collapsed_sections": [],
      "include_colab_link": true
    }
  },
  "cells": [
    {
      "cell_type": "markdown",
      "metadata": {
        "id": "view-in-github",
        "colab_type": "text"
      },
      "source": [
        "<a href=\"https://colab.research.google.com/github/Stan0103/Fall/blob/master/APCS%E8%A7%80%E5%BF%B5%E9%A1%8C%E8%A7%A3%E6%9E%90_%E5%8A%9F%E8%AA%B2.ipynb\" target=\"_parent\"><img src=\"https://colab.research.google.com/assets/colab-badge.svg\" alt=\"Open In Colab\"/></a>"
      ]
    },
    {
      "cell_type": "code",
      "metadata": {
        "id": "Eeqj8QUBZXuF",
        "outputId": "71d13a7c-c34f-409f-fdcc-83fbf8d1a2bd",
        "colab": {
          "base_uri": "https://localhost:8080/",
          "height": 34
        }
      },
      "source": [
        "a = []\n",
        "b = []\n",
        "\n",
        "\n",
        "a.append(0)\n",
        "b.append(0)\n",
        "\n",
        "\n",
        "for i in range(1, 101):\n",
        "  b.append(i)\n",
        "  \n",
        "\n",
        "for j in range(1, 100):\n",
        "  a.append(b[j]+ a[j-1])\n",
        "\n",
        "a[50]-a[30]"
      ],
      "execution_count": 1,
      "outputs": [
        {
          "output_type": "execute_result",
          "data": {
            "text/plain": [
              "810"
            ]
          },
          "metadata": {
            "tags": []
          },
          "execution_count": 1
        }
      ]
    }
  ]
}